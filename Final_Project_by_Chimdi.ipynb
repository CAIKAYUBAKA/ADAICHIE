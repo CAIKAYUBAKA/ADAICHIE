{
  "nbformat": 4,
  "nbformat_minor": 0,
  "metadata": {
    "colab": {
      "provenance": [],
      "authorship_tag": "ABX9TyODhYP19Eda7y60XjwLOMZs",
      "include_colab_link": true
    },
    "kernelspec": {
      "name": "python3",
      "display_name": "Python 3"
    },
    "language_info": {
      "name": "python"
    }
  },
  "cells": [
    {
      "cell_type": "markdown",
      "metadata": {
        "id": "view-in-github",
        "colab_type": "text"
      },
      "source": [
        "<a href=\"https://colab.research.google.com/github/CAIKAYUBAKA/ORES-5160-CHIMDI/blob/main/Final_Project_by_Chimdi.ipynb\" target=\"_parent\"><img src=\"https://colab.research.google.com/assets/colab-badge.svg\" alt=\"Open In Colab\"/></a>"
      ]
    },
    {
      "cell_type": "markdown",
      "source": [
        "\n",
        "\n",
        "# HDS5210-2021 Final Project\n",
        "*  Diabetes mellitus is a complex and chronic condition that requires lifelong management and interaction with a healthcare system. Failure to control risk factors through preventive care may lead to a host of diabetes-related complications.\n",
        "\n",
        "The purpose of this project is to\n",
        "\n",
        "*  Determine the prevalence of diabetes and smoking patterns among regions.\n",
        "  \n",
        "*   Whether the factors including age, gender, ethnicity, education, marital and unemployment status increase the risk of developing morbidity and mortality associated with diabetes mellitus.\n",
        "\n",
        "*   Investigate if there are disparities in diabetes-related outcomes among different demographic groups, helping to address health equity concerns.\n",
        "\n",
        "The outcomes of this project would be to improve the overall management and outcomes of diabetes mellitus."
      ],
      "metadata": {
        "id": "MQgUE1aTkU9J"
      }
    },
    {
      "cell_type": "markdown",
      "source": [
        "# 1. Data retrieval & manipulation\n",
        "# 1-1. Data sources\n",
        "The following data were retrieved from kaggle datasets https://www.kaggle.com/datasets/iammustafatz/diabetes-prediction-dataset\n",
        "\n",
        "*   List item\n",
        "*   List item\n",
        "\n"
      ],
      "metadata": {
        "id": "i1IWTtqZoCXs"
      }
    },
    {
      "cell_type": "code",
      "source": [],
      "metadata": {
        "id": "G6jH4CuanqoT"
      },
      "execution_count": null,
      "outputs": []
    }
  ]
}